{
  "nbformat": 4,
  "nbformat_minor": 0,
  "metadata": {
    "colab": {
      "provenance": []
    },
    "kernelspec": {
      "name": "python3",
      "display_name": "Python 3"
    },
    "language_info": {
      "name": "python"
    }
  },
  "cells": [
    {
      "cell_type": "markdown",
      "source": [
        "**Step 1: Upload and Configure kaggle.json**"
      ],
      "metadata": {
        "id": "fupsAI5hKp5Q"
      }
    },
    {
      "cell_type": "code",
      "execution_count": null,
      "metadata": {
        "id": "ayaPQNXWJ2sz"
      },
      "outputs": [],
      "source": [
        "from google.colab import userdata\n",
        "import json, os\n",
        "\n",
        "kaggle_json = {\n",
        "    \"username\": userdata.get('KAGGLE_USERNAME'),\n",
        "    \"key\": userdata.get('KAGGLE_KEY')\n",
        "}\n",
        "\n",
        "os.makedirs(\"/root/.kaggle\", exist_ok=True)\n",
        "with open(\"/root/.kaggle/kaggle.json\", \"w\") as f:\n",
        "    json.dump(kaggle_json, f)\n",
        "\n",
        "os.chmod(\"/root/.kaggle/kaggle.json\", 0o600)"
      ]
    },
    {
      "cell_type": "markdown",
      "source": [
        "**Step 2: Download Kaggle Datasets**"
      ],
      "metadata": {
        "id": "b_qc4sV0Mlzw"
      }
    },
    {
      "cell_type": "code",
      "source": [
        "# Download all 3 datasets\n",
        "!kaggle datasets download -d rohanrao/nifty50-stock-market-data\n",
        "!kaggle datasets download -d debashis74017/stock-market-data-nifty-100-stocks-5-min-data\n",
        "!kaggle datasets download -d s3programmer/stock-market-dataset-for-financial-analysis\n",
        "# Unzip into raw folder\n",
        "!mkdir -p data/static_raw\n",
        "!unzip -q nifty50-stock-market-data.zip -d data/static_raw/nifty50\n",
        "!unzip -q stock-market-data-nifty-100-stocks-5-min-data.zip -d data/static_raw/nifty100_5min\n",
        "!unzip -q stock-market-dataset-for-financial-analysis.zip -d data/static_raw/financial_analysis"
      ],
      "metadata": {
        "colab": {
          "base_uri": "https://localhost:8080/"
        },
        "id": "5ia1dymFLB09",
        "outputId": "491e4895-914c-4566-e2e6-4a4bcecf193e"
      },
      "execution_count": null,
      "outputs": [
        {
          "output_type": "stream",
          "name": "stdout",
          "text": [
            "Dataset URL: https://www.kaggle.com/datasets/rohanrao/nifty50-stock-market-data\n",
            "License(s): CC0-1.0\n",
            "Dataset URL: https://www.kaggle.com/datasets/debashis74017/stock-market-data-nifty-100-stocks-5-min-data\n",
            "License(s): CC0-1.0\n",
            "Dataset URL: https://www.kaggle.com/datasets/s3programmer/stock-market-dataset-for-financial-analysis\n",
            "License(s): CC0-1.0\n"
          ]
        }
      ]
    },
    {
      "cell_type": "code",
      "source": [
        "from google.colab import drive\n",
        "drive.mount('/content/drive')"
      ],
      "metadata": {
        "id": "YSLKNSIWkd1D"
      },
      "execution_count": null,
      "outputs": []
    },
    {
      "cell_type": "markdown",
      "source": [
        "**Step 3: Preprocessing Function**"
      ],
      "metadata": {
        "id": "z7YD5od9MsiV"
      }
    },
    {
      "cell_type": "code",
      "source": [
        "import pandas as pd\n",
        "import os\n",
        "\n",
        "def preprocess_stock_csv(file_path):\n",
        "    try:\n",
        "        df = pd.read_csv(file_path)\n",
        "        if 'Date' in df.columns:\n",
        "            df['Date'] = pd.to_datetime(df['Date'])\n",
        "        elif 'date' in df.columns:\n",
        "            df['Date'] = pd.to_datetime(df['date'])\n",
        "        else:\n",
        "            return None  # Skip if no date\n",
        "\n",
        "        df.set_index('Date', inplace=True)\n",
        "        df.columns = [col.lower() for col in df.columns]\n",
        "        needed = ['open', 'high', 'low', 'close', 'volume']\n",
        "        df = df[[col for col in needed if col in df.columns]]\n",
        "        df.dropna(inplace=True)\n",
        "        return df\n",
        "    except:\n",
        "        return None"
      ],
      "metadata": {
        "id": "TvxbvHwjMw8F"
      },
      "execution_count": null,
      "outputs": []
    },
    {
      "cell_type": "markdown",
      "source": [
        "**Step 4: Batch Process All Raw CSVs**"
      ],
      "metadata": {
        "id": "KT-kERD9M1Ld"
      }
    },
    {
      "cell_type": "code",
      "source": [
        "from pathlib import Path\n",
        "\n",
        "folders = [\n",
        "    \"data/static_raw/nifty50\",\n",
        "    \"data/static_raw/nifty100_5min\",\n",
        "    \"data/static_raw/financial_analysis\"\n",
        "]\n",
        "\n",
        "processed_dir = Path(\"data/processed/static\")\n",
        "processed_dir.mkdir(parents=True, exist_ok=True)\n",
        "\n",
        "for folder in folders:\n",
        "    for file in os.listdir(folder):\n",
        "        if file.endswith(\".csv\"):\n",
        "            stock_name = file.replace(\".csv\", \"\").upper()\n",
        "            path = os.path.join(folder, file)\n",
        "            df_clean = preprocess_stock_csv(path)\n",
        "            if df_clean is not None:\n",
        "                df_clean.to_csv(processed_dir / f\"{stock_name}_clean.csv\")"
      ],
      "metadata": {
        "id": "e_YDiLxzM5Jk"
      },
      "execution_count": null,
      "outputs": []
    }
  ]
}